{
 "cells": [
  {
   "cell_type": "markdown",
   "id": "bd43c4f8",
   "metadata": {},
   "source": [
    "# Genetic Algorithm with Python"
   ]
  },
  {
   "cell_type": "markdown",
   "id": "64dba6cc",
   "metadata": {},
   "source": [
    "The genetic algorithm is a computer approximation of how evolution performs research, which involves making changes to the parent genomes in their offspring and thus producing new individuals with different abilities."
   ]
  },
  {
   "cell_type": "markdown",
   "id": "cd17eefa",
   "metadata": {},
   "source": [
    "#### The elements we need to model a simple genetic algorithm:\n",
    "* A method of representing problems in the form of chromosomes.\n",
    "* A way to calculate the adequacy of a solution.\n",
    "* A selection method for choosing parents.\n",
    "* A way to generate offspring by raising parents."
   ]
  },
  {
   "cell_type": "markdown",
   "id": "d7201702",
   "metadata": {},
   "source": [
    "### Case Study"
   ]
  },
  {
   "cell_type": "markdown",
   "id": "418c3038",
   "metadata": {},
   "source": [
    "You have [X] MP3 files on your computer hard drive. Unfortunately, the hard drive started making noise and you decide that you had better save the MP3s. Likewise, unfortunately you can only burn CDs, not DVDs, on your computer. You need to minimize the number of CDs you use, so you decide to design a genetic algorithm to choose which MP3s to put on each CD to fill it as completely as possible."
   ]
  },
  {
   "cell_type": "markdown",
   "id": "a0fc6cc2",
   "metadata": {},
   "source": [
    "### Building Algorithm\n",
    "We are having [X] number of files, we should build a binary chromosome where 1 means a particular MP3 file is taken from the chromosome while 0 mean it's not."
   ]
  },
  {
   "cell_type": "markdown",
   "id": "75b2dc55",
   "metadata": {},
   "source": [
    "#### Parent Generation Function"
   ]
  },
  {
   "cell_type": "code",
   "execution_count": 1,
   "id": "d5f99fcd",
   "metadata": {},
   "outputs": [],
   "source": [
    "import numpy as np\n",
    "import random\n",
    "def generateParents(size):\n",
    "    parents = np.array(random.randint(0, 2**size - 1))\n",
    "    for i in range(1, population):\n",
    "        parents = np.append(parents, random.randint(0, 2**size - 1))\n",
    "    \n",
    "    return parents"
   ]
  },
  {
   "cell_type": "markdown",
   "id": "c6d24685",
   "metadata": {},
   "source": [
    "For the first generation, the population will be the total number of randomly generated parents. size contains the current total number of MP3s being processed."
   ]
  },
  {
   "cell_type": "markdown",
   "id": "dca59e19",
   "metadata": {},
   "source": [
    "#### Total space used by all selected MP3s"
   ]
  },
  {
   "cell_type": "code",
   "execution_count": 2,
   "id": "30818e61",
   "metadata": {},
   "outputs": [],
   "source": [
    "def totalSize(data, size):\n",
    "    s = 0\n",
    "    for i in range(0, size - 1):\n",
    "        if(data & (1 << i) > 0):\n",
    "            s += mp3s[i]\n",
    "    return s"
   ]
  },
  {
   "cell_type": "markdown",
   "id": "1bfe2b67",
   "metadata": {},
   "source": [
    "#### Mutation"
   ]
  },
  {
   "cell_type": "code",
   "execution_count": 3,
   "id": "a2f4c99a",
   "metadata": {},
   "outputs": [],
   "source": [
    "def reduceSize(rec, size):\n",
    "    while totalSize(rec, size) > 700:\n",
    "        index = random.randint(0, size - 1)\n",
    "        if(rec & (1 << index) > 0):\n",
    "            rec = rec ^ (1 << index)\n",
    "    return rec"
   ]
  },
  {
   "cell_type": "code",
   "execution_count": 4,
   "id": "b85a0e94",
   "metadata": {},
   "outputs": [],
   "source": [
    "def mutate(rec, size):\n",
    "    index = random.randint(0, size - 1)\n",
    "    rec = rec ^ (1 << index)\n",
    "    return rec"
   ]
  },
  {
   "cell_type": "markdown",
   "id": "5a98a3a7",
   "metadata": {},
   "source": [
    "Note: Mutation rate is omitted for simplicity."
   ]
  },
  {
   "cell_type": "markdown",
   "id": "779901c5",
   "metadata": {},
   "source": [
    "#### Reduce Size & Fitness"
   ]
  },
  {
   "cell_type": "code",
   "execution_count": 10,
   "id": "7ea56525",
   "metadata": {},
   "outputs": [],
   "source": [
    "def fixChromosomes(data, size, population):\n",
    "    datasize = data.shape[0]\n",
    "    fitness = np.zeros((datasize, 1), dtype=int)\n",
    "    for i in range(0, datasize):\n",
    "        rec = data[i]\n",
    "        if(totalSize(rec, size) > 700):\n",
    "            rec = reduceSize(rec, size)\n",
    "            data[i] = rec\n",
    "        fitness[i] = -1*totalSize(data[i], size)\n",
    "    data = np.transpose(np.array([data]))\n",
    "    generation = np.concatenate((data, fitness), axis=1)\n",
    "    generation = generation[generation[:population, 1].argsort()]\n",
    "    return generation"
   ]
  },
  {
   "cell_type": "markdown",
   "id": "e1d35f30",
   "metadata": {},
   "source": [
    "#### Crossover"
   ]
  },
  {
   "cell_type": "code",
   "execution_count": 11,
   "id": "9e266872",
   "metadata": {},
   "outputs": [],
   "source": [
    "def crossover(mom, dad, size):\n",
    "    index = random.randint(1, size - 1)\n",
    "    mom1 = mom & (2**index - 1)\n",
    "    mom2 = mom & ((2**(size - index) - 1) << index)\n",
    "    dad1 = dad & (2**index - 1)\n",
    "    dad2 = dad & ((2**(size - index) - 1) << index)\n",
    "    return mutate(mom1|dad2, size), mutate(dad1|mom2, size)"
   ]
  },
  {
   "cell_type": "markdown",
   "id": "9ccdc697",
   "metadata": {},
   "source": [
    "#### New Generation"
   ]
  },
  {
   "cell_type": "code",
   "execution_count": 12,
   "id": "9bee9935",
   "metadata": {},
   "outputs": [],
   "source": [
    "def newGeneration(generation, size):\n",
    "    top4 = generation[:4, 0]\n",
    "    newGen = generation[:2, 0]\n",
    "    for i in range(0, 4):\n",
    "        for j in range(0, 4):\n",
    "            if(i != j):\n",
    "                c1, c2 = crossover(top4[i], top4[j], size)\n",
    "                newGen = np.append(newGen, c1)\n",
    "                newGen = np.append(newGen, c2)\n",
    "                #print(newGen)\n",
    "    return newGen"
   ]
  },
  {
   "cell_type": "markdown",
   "id": "e24dc819",
   "metadata": {},
   "source": [
    "### Let's Train"
   ]
  },
  {
   "cell_type": "code",
   "execution_count": 15,
   "id": "825af2d5",
   "metadata": {},
   "outputs": [],
   "source": [
    "def train(mp3Cnt, mp3s, population, generationsPerCD):\n",
    "    curCD = 1\n",
    "    combinedSizes = totalSize(2**mp3Cnt - 1, mp3Cnt)\n",
    "    doneSizes = 0.0\n",
    "    while(True):\n",
    "        if(mp3Cnt == 0):\n",
    "            break\n",
    "        parents = generateParents(mp3Cnt)\n",
    "        generation = fixChromosomes(parents, mp3Cnt, population)\n",
    "        ng = generation\n",
    "        for i in range(generationsPerCD):\n",
    "            ng = newGeneration(ng, mp3Cnt)\n",
    "            ng = fixChromosomes(ng, mp3Cnt, population)\n",
    "        allFileSize = totalSize(2**mp3Cnt - 1, mp3Cnt)\n",
    "        cdContents = ng[0, 0]\n",
    "        if(allFileSize < 700):\n",
    "            cdContents = 2**mp3Cnt - 1\n",
    "        currentBestCDSize = totalSize(cdContents, mp3Cnt)\n",
    "        if(currentBestCDSize >= 699 or allFileSize < 700):\n",
    "            indexesToRemove = []\n",
    "            for i in range(0, mp3Cnt):\n",
    "                if(cdContents & (1 << i) > 0):\n",
    "                    indexesToRemove.append(i)\n",
    "            indexesToRemove = list(reversed(indexesToRemove))\n",
    "            doneSizes += currentBestCDSize\n",
    "            print(\"CD\" + str(curCD) + \": MP3 Count:\" + str(len(indexesToRemove)) + \" Size: \" + str(currentBestCDSize))\n",
    "            mp3Cnt = mp3Cnt - len(indexesToRemove)\n",
    "            for i in range(len(indexesToRemove)):\n",
    "                mp3s = np.delete(mp3s, indexesToRemove[i])\n",
    "            curCD = curCD + 1\n",
    "        else:\n",
    "            continue"
   ]
  },
  {
   "cell_type": "code",
   "execution_count": null,
   "id": "0cabeec6",
   "metadata": {},
   "outputs": [
    {
     "name": "stdout",
     "output_type": "stream",
     "text": [
      "CD1: MP3 Count:12 Size: [699.35620758]\n",
      "CD2: MP3 Count:11 Size: [699.57457602]\n",
      "CD3: MP3 Count:16 Size: [699.54570376]\n",
      "CD4: MP3 Count:13 Size: [699.76220577]\n",
      "CD5: MP3 Count:14 Size: [699.4388967]\n",
      "CD6: MP3 Count:17 Size: [699.7754342]\n"
     ]
    }
   ],
   "source": [
    "population = 10\n",
    "mp3Cnt = 100\n",
    "generationsPerCD = 3\n",
    "maxFileSize = 100\n",
    "mp3s = maxFileSize * np.random.rand(mp3Cnt, 1)\n",
    "\n",
    "train(mp3Cnt, mp3s, population, generationsPerCD)"
   ]
  },
  {
   "cell_type": "code",
   "execution_count": null,
   "id": "fafc4a09",
   "metadata": {},
   "outputs": [],
   "source": []
  }
 ],
 "metadata": {
  "kernelspec": {
   "display_name": "Python 3 (ipykernel)",
   "language": "python",
   "name": "python3"
  },
  "language_info": {
   "codemirror_mode": {
    "name": "ipython",
    "version": 3
   },
   "file_extension": ".py",
   "mimetype": "text/x-python",
   "name": "python",
   "nbconvert_exporter": "python",
   "pygments_lexer": "ipython3",
   "version": "3.9.13"
  }
 },
 "nbformat": 4,
 "nbformat_minor": 5
}
