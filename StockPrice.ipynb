{
 "cells": [
  {
   "cell_type": "code",
   "execution_count": 1,
   "id": "f08c34ab",
   "metadata": {},
   "outputs": [
    {
     "name": "stdout",
     "output_type": "stream",
     "text": [
      "Requirement already satisfied: yfinance in c:\\users\\bbp29\\anaconda3\\lib\\site-packages (0.2.9)\n",
      "Requirement already satisfied: lxml>=4.9.1 in c:\\users\\bbp29\\anaconda3\\lib\\site-packages (from yfinance) (4.9.1)\n",
      "Requirement already satisfied: beautifulsoup4>=4.11.1 in c:\\users\\bbp29\\anaconda3\\lib\\site-packages (from yfinance) (4.11.1)\n",
      "Requirement already satisfied: numpy>=1.16.5 in c:\\users\\bbp29\\anaconda3\\lib\\site-packages (from yfinance) (1.21.5)\n",
      "Requirement already satisfied: cryptography>=3.3.2 in c:\\users\\bbp29\\anaconda3\\lib\\site-packages (from yfinance) (37.0.1)\n",
      "Requirement already satisfied: multitasking>=0.0.7 in c:\\users\\bbp29\\anaconda3\\lib\\site-packages (from yfinance) (0.0.11)\n",
      "Requirement already satisfied: pandas>=1.3.0 in c:\\users\\bbp29\\anaconda3\\lib\\site-packages (from yfinance) (1.4.4)\n",
      "Requirement already satisfied: requests>=2.26 in c:\\users\\bbp29\\anaconda3\\lib\\site-packages (from yfinance) (2.28.1)\n",
      "Requirement already satisfied: appdirs>=1.4.4 in c:\\users\\bbp29\\anaconda3\\lib\\site-packages (from yfinance) (1.4.4)\n",
      "Requirement already satisfied: html5lib>=1.1 in c:\\users\\bbp29\\anaconda3\\lib\\site-packages (from yfinance) (1.1)\n",
      "Requirement already satisfied: pytz>=2022.5 in c:\\users\\bbp29\\anaconda3\\lib\\site-packages (from yfinance) (2022.7.1)\n",
      "Requirement already satisfied: frozendict>=2.3.4 in c:\\users\\bbp29\\anaconda3\\lib\\site-packages (from yfinance) (2.3.4)\n",
      "Requirement already satisfied: soupsieve>1.2 in c:\\users\\bbp29\\anaconda3\\lib\\site-packages (from beautifulsoup4>=4.11.1->yfinance) (2.3.1)\n",
      "Requirement already satisfied: cffi>=1.12 in c:\\users\\bbp29\\anaconda3\\lib\\site-packages (from cryptography>=3.3.2->yfinance) (1.15.1)\n",
      "Requirement already satisfied: six>=1.9 in c:\\users\\bbp29\\anaconda3\\lib\\site-packages (from html5lib>=1.1->yfinance) (1.16.0)\n",
      "Requirement already satisfied: webencodings in c:\\users\\bbp29\\anaconda3\\lib\\site-packages (from html5lib>=1.1->yfinance) (0.5.1)\n",
      "Requirement already satisfied: python-dateutil>=2.8.1 in c:\\users\\bbp29\\anaconda3\\lib\\site-packages (from pandas>=1.3.0->yfinance) (2.8.2)\n",
      "Requirement already satisfied: idna<4,>=2.5 in c:\\users\\bbp29\\anaconda3\\lib\\site-packages (from requests>=2.26->yfinance) (3.3)\n",
      "Requirement already satisfied: charset-normalizer<3,>=2 in c:\\users\\bbp29\\anaconda3\\lib\\site-packages (from requests>=2.26->yfinance) (2.0.4)\n",
      "Requirement already satisfied: urllib3<1.27,>=1.21.1 in c:\\users\\bbp29\\anaconda3\\lib\\site-packages (from requests>=2.26->yfinance) (1.26.11)\n",
      "Requirement already satisfied: certifi>=2017.4.17 in c:\\users\\bbp29\\anaconda3\\lib\\site-packages (from requests>=2.26->yfinance) (2022.9.14)\n",
      "Requirement already satisfied: pycparser in c:\\users\\bbp29\\anaconda3\\lib\\site-packages (from cffi>=1.12->cryptography>=3.3.2->yfinance) (2.21)\n",
      "Note: you may need to restart the kernel to use updated packages.\n"
     ]
    }
   ],
   "source": [
    "pip install yfinance"
   ]
  },
  {
   "cell_type": "code",
   "execution_count": 3,
   "id": "093a7915",
   "metadata": {},
   "outputs": [],
   "source": [
    "import pandas as pd\n",
    "import yfinance as yf\n",
    "import datetime"
   ]
  },
  {
   "cell_type": "code",
   "execution_count": 4,
   "id": "530d6980",
   "metadata": {},
   "outputs": [],
   "source": [
    "from datetime import date, timedelta"
   ]
  },
  {
   "cell_type": "code",
   "execution_count": 5,
   "id": "1e98fa92",
   "metadata": {},
   "outputs": [],
   "source": [
    "today = date.today()"
   ]
  },
  {
   "cell_type": "code",
   "execution_count": 6,
   "id": "3e3e2e71",
   "metadata": {},
   "outputs": [],
   "source": [
    "d1 = today.strftime(\"%Y-%m-%d\")\n",
    "end_date = d1"
   ]
  },
  {
   "cell_type": "code",
   "execution_count": 7,
   "id": "27675226",
   "metadata": {},
   "outputs": [],
   "source": [
    "d2 = date.today() - timedelta(days=360)\n",
    "d2 = d2.strftime(\"%Y-%m-%d\")\n",
    "start_date = d2"
   ]
  },
  {
   "cell_type": "code",
   "execution_count": 12,
   "id": "b0830eb0",
   "metadata": {},
   "outputs": [
    {
     "name": "stdout",
     "output_type": "stream",
     "text": [
      "                                 Open        High         Low       Close  \\\n",
      "Date                                                                        \n",
      "2022-02-04 00:00:00-05:00  171.679993  174.100006  170.679993  172.389999   \n",
      "2022-02-07 00:00:00-05:00  172.860001  173.949997  170.949997  171.660004   \n",
      "2022-02-08 00:00:00-05:00  171.729996  175.350006  171.429993  174.830002   \n",
      "2022-02-09 00:00:00-05:00  176.050003  176.649994  174.899994  176.279999   \n",
      "2022-02-10 00:00:00-05:00  174.139999  175.479996  171.550003  172.119995   \n",
      "\n",
      "                            Adj Close    Volume  \n",
      "Date                                             \n",
      "2022-02-04 00:00:00-05:00  171.613632  82465400  \n",
      "2022-02-07 00:00:00-05:00  170.886917  77251200  \n",
      "2022-02-08 00:00:00-05:00  174.042633  74829200  \n",
      "2022-02-09 00:00:00-05:00  175.486099  71285000  \n",
      "2022-02-10 00:00:00-05:00  171.344833  90865900  \n"
     ]
    }
   ],
   "source": [
    "data = yf.download('AAPL', start=start_date, end=end_date, progress=False)\n",
    "print(data.head())"
   ]
  },
  {
   "cell_type": "code",
   "execution_count": 13,
   "id": "ff73a8d3",
   "metadata": {},
   "outputs": [
    {
     "name": "stdout",
     "output_type": "stream",
     "text": [
      "                       Date        Open        High         Low       Close  \\\n",
      "0 2022-02-04 00:00:00-05:00  171.679993  174.100006  170.679993  172.389999   \n",
      "1 2022-02-07 00:00:00-05:00  172.860001  173.949997  170.949997  171.660004   \n",
      "2 2022-02-08 00:00:00-05:00  171.729996  175.350006  171.429993  174.830002   \n",
      "3 2022-02-09 00:00:00-05:00  176.050003  176.649994  174.899994  176.279999   \n",
      "4 2022-02-10 00:00:00-05:00  174.139999  175.479996  171.550003  172.119995   \n",
      "\n",
      "    Adj Close    Volume  \n",
      "0  171.613632  82465400  \n",
      "1  170.886917  77251200  \n",
      "2  174.042633  74829200  \n",
      "3  175.486099  71285000  \n",
      "4  171.344833  90865900  \n"
     ]
    }
   ],
   "source": [
    "data[\"Date\"] = data.index\n",
    "data = data[[\"Date\", \"Open\", \"High\", \"Low\", \"Close\", \"Adj Close\", \"Volume\"]]\n",
    "data.reset_index(drop=True, inplace=True)\n",
    "print(data.head())"
   ]
  },
  {
   "cell_type": "code",
   "execution_count": null,
   "id": "314d3227",
   "metadata": {},
   "outputs": [],
   "source": []
  }
 ],
 "metadata": {
  "kernelspec": {
   "display_name": "Python 3 (ipykernel)",
   "language": "python",
   "name": "python3"
  },
  "language_info": {
   "codemirror_mode": {
    "name": "ipython",
    "version": 3
   },
   "file_extension": ".py",
   "mimetype": "text/x-python",
   "name": "python",
   "nbconvert_exporter": "python",
   "pygments_lexer": "ipython3",
   "version": "3.9.13"
  }
 },
 "nbformat": 4,
 "nbformat_minor": 5
}
